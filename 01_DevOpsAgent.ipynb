{
 "cells": [
  {
   "cell_type": "markdown",
   "id": "9ebd9e30-22b2-4ecd-a7df-c8433ad4bbcb",
   "metadata": {},
   "source": [
    "# ![Company Logo](Thioether-Logo.jpeg)"
   ]
  },
  {
   "cell_type": "markdown",
   "id": "275d8867-ae99-4b1d-9d49-8b819170c821",
   "metadata": {},
   "source": [
    "# Kubernetes and Llamaindex tool\n",
    "\n",
    "Create a Llama Agent to interact with kubernetes cluster. This is just a preliminary case of tool calling. A sophisticated input model from kubernetes can be used to scan for problems. Why? Because you can and want to put AI in your company profile. This can be done with if elses on the output (structured or unstructured). But there can be cases when plain text output of messages is better handled like a bad/good sentiment by LLM.\n"
   ]
  },
  {
   "cell_type": "markdown",
   "id": "fa45d2ea-5158-41b9-b523-cc87e0cd8f5f",
   "metadata": {},
   "source": [
    "## Initialise the LLM"
   ]
  },
  {
   "cell_type": "code",
   "execution_count": 15,
   "id": "50b964d7-1a48-4a1b-a961-c8667b025699",
   "metadata": {},
   "outputs": [],
   "source": [
    "import os\n",
    "from dotenv import load_dotenv\n",
    "load_dotenv()\n",
    "\n",
    "from llama_index.core.agent import ReActAgent\n",
    "from llama_index.llms.ollama import Ollama\n",
    "from llama_index.core.tools import FunctionTool\n",
    "from llama_index.core import Settings\n",
    "\n",
    "# import logging\n",
    "# import sys\n",
    "# logging.basicConfig(stream=sys.stdout, level=logging.WARN)\n",
    "# logging.getLogger().addHandler(logging.StreamHandler(stream=sys.stdout))\n",
    "\n",
    "\n",
    "# import llama_index.core\n",
    "# llama_index.core.set_global_handler(\"simple\")\n",
    "\n",
    "\n",
    "#Settings.llm = Ollama(model=\"llama3.2:latest\",request_timeout=300, temperature=0)\n",
    "\n",
    "from llama_index.llms.litellm import LiteLLM\n",
    "\n",
    "liteLLM = LiteLLM(model=\"groq/llama3-70b-8192\",api_key=os.environ['GROQ_API_KEY'])\n",
    "Settings.llm = liteLLM\n",
    "\n"
   ]
  },
  {
   "cell_type": "code",
   "execution_count": null,
   "id": "55ec6ff5-c7b5-439f-8fe2-156f43547253",
   "metadata": {},
   "outputs": [],
   "source": [
    "#!pip install kubernetes\n",
    "#!pip install pandoc"
   ]
  },
  {
   "cell_type": "markdown",
   "id": "a7fab031-32a4-4a7f-8acb-52e6734c63cf",
   "metadata": {},
   "source": [
    "## Define tools to connect to Kubernetes"
   ]
  },
  {
   "cell_type": "code",
   "execution_count": 16,
   "id": "85051cef-c776-4b8b-bdbd-230b1ad83da1",
   "metadata": {},
   "outputs": [],
   "source": [
    "from kubernetes import client, config\n",
    "from typing import List\n",
    "from pydantic import BaseModel,Field\n",
    "\n",
    "class ClusterEvent(BaseModel):\n",
    "    \"\"\"Cluster event messages\"\"\"\n",
    "    message: str = Field(...,description=\"Cluster Message\")\n",
    "\n",
    "class PodStatus(BaseModel):\n",
    "    \"Represents the pod status\"\n",
    "    namespace:str = Field(..., description=\"Namespace of the pod\")\n",
    "    podname:str = Field(..., description=\"Name of the pod\")\n",
    "    status:bool = Field(..., description=\"Status reflecting if a pod is running.\")\n",
    "\n",
    "# Configs can be set in Configuration class directly or using helper utility\n",
    "config.load_kube_config()\n",
    "\n",
    "def get_pod_status() -> List[PodStatus]:\n",
    "    \"\"\"Returns the status for all pods in kubernetes cluster.\"\"\"\n",
    "    v1 = client.CoreV1Api()\n",
    "    ret = v1.list_pod_for_all_namespaces(watch=False)\n",
    "    pods = list[PodStatus]()\n",
    "    for i in ret.items:\n",
    "        pods.append(PodStatus(namespace=i.metadata.namespace,podname= i.metadata.name, status = i.status.container_statuses[0].started))\n",
    "    return pods\n",
    "\n",
    "def get_cluster_events() -> List[ClusterEvent]:\n",
    "    \"\"\"Get events in kubernetes cluster and returns the list of cluster events\"\"\"\n",
    "    v1 = client.CoreV1Api()\n",
    "    ret = v1.list_event_for_all_namespaces()\n",
    "    messages = list[ClusterEvent]()\n",
    "    for i in ret.items:\n",
    "        messages.append(ClusterEvent(message = i.message))\n",
    "    return \"\\n\".join(messages)\n"
   ]
  },
  {
   "cell_type": "markdown",
   "id": "8403fc5f-622f-46fa-9453-cc9c40b1bc9c",
   "metadata": {},
   "source": [
    "## Define Function tools and LLM Agent using the tool.\n",
    "\n",
    "Use the function definitions that can connect to Kubernetes and provide structured information for analysis by LLM."
   ]
  },
  {
   "cell_type": "code",
   "execution_count": 17,
   "id": "dff8f0fd-e8b6-4f14-9a6e-6e2532a561f6",
   "metadata": {},
   "outputs": [],
   "source": [
    "pod_tool = FunctionTool.from_defaults(fn=get_pod_status)\n",
    "event_tool = FunctionTool.from_defaults(fn=get_cluster_events)\n",
    "\n",
    "agent = ReActAgent.from_tools(tools=[pod_tool,event_tool], verbose=True)"
   ]
  },
  {
   "cell_type": "markdown",
   "id": "6b128213-b5c2-4db1-a710-4ad84acc1f5b",
   "metadata": {},
   "source": [
    "## Ask a question"
   ]
  },
  {
   "cell_type": "code",
   "execution_count": 18,
   "id": "ebed7fab-8dad-4cbc-969f-7c0880ea9466",
   "metadata": {},
   "outputs": [
    {
     "name": "stdout",
     "output_type": "stream",
     "text": [
      "> Running step c158690d-4cd0-4832-8f54-749e7bbab14d. Step input: Find which pods are not running in a kubernetes cluster?\n",
      "\u001b[1;3;38;5;200mThought: The current language of the user is: English. I need to use a tool to help me answer the question.\n",
      "Action: get_pod_status\n",
      "Action Input: {'properties': AttributedDict(), 'type': 'object'}\n",
      "\u001b[0m\u001b[1;3;34mObservation: Error: get_pod_status() got an unexpected keyword argument 'properties'\n",
      "\u001b[0m> Running step e9f0238d-d016-4783-bc23-2952596b8111. Step input: None\n",
      "\u001b[1;3;38;5;200mThought: The current language of the user is: English. I need to use a tool to help me answer the question. The tool get_pod_status does not require any input.\n",
      "Action: get_pod_status\n",
      "Action Input: {}\n",
      "\u001b[0m\u001b[1;3;34mObservation: [PodStatus(namespace='kube-system', podname='coredns-7b98449c4-2xcxg', status=True), PodStatus(namespace='kube-system', podname='helm-install-traefik-6jv8m', status=False), PodStatus(namespace='kube-system', podname='helm-install-traefik-crd-nzgh2', status=False), PodStatus(namespace='kube-system', podname='local-path-provisioner-6795b5f9d8-s8qjr', status=True), PodStatus(namespace='kube-system', podname='metrics-server-cdcc87586-ddhs6', status=True), PodStatus(namespace='kube-system', podname='svclb-traefik-2d8fce1f-b85bp', status=True), PodStatus(namespace='kube-system', podname='traefik-67f6c94c47-5zkhm', status=True)]\n",
      "\u001b[0m> Running step 463b5662-efb3-4f50-87b0-528bcb16e679. Step input: None\n",
      "\u001b[1;3;38;5;200mThought: I have the pod status, now I need to filter out the pods that are not running.\n",
      "Answer: The pods that are not running are: helm-install-traefik-6jv8m, helm-install-traefik-crd-nzgh2.\n",
      "\u001b[0m"
     ]
    },
    {
     "data": {
      "text/plain": [
       "'The pods that are not running are: helm-install-traefik-6jv8m, helm-install-traefik-crd-nzgh2.'"
      ]
     },
     "metadata": {},
     "output_type": "display_data"
    }
   ],
   "source": [
    "response = agent.chat(\"Find which pods are not running in a kubernetes cluster?\")\n",
    "display(response.response)"
   ]
  },
  {
   "cell_type": "markdown",
   "id": "6f7eee38-cfdb-4d6c-b70f-ba98f43ef532",
   "metadata": {},
   "source": [
    "## Ask a question"
   ]
  },
  {
   "cell_type": "code",
   "execution_count": null,
   "id": "e97aa534-33c8-418a-89ab-9fc397c81136",
   "metadata": {},
   "outputs": [],
   "source": [
    "#agent.chat(\"Analyse the events in kubernetes cluster and suggest if any error requires attention.\")"
   ]
  }
 ],
 "metadata": {
  "kernelspec": {
   "display_name": "Python 3 (ipykernel)",
   "language": "python",
   "name": "python3"
  },
  "language_info": {
   "codemirror_mode": {
    "name": "ipython",
    "version": 3
   },
   "file_extension": ".py",
   "mimetype": "text/x-python",
   "name": "python",
   "nbconvert_exporter": "python",
   "pygments_lexer": "ipython3",
   "version": "3.12.2"
  }
 },
 "nbformat": 4,
 "nbformat_minor": 5
}
